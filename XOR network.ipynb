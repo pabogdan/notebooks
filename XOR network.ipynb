{
 "cells": [
  {
   "cell_type": "code",
   "execution_count": 1,
   "metadata": {
    "collapsed": false
   },
   "outputs": [
    {
     "data": {
      "text/plain": [
       "<matplotlib.figure.Figure at 0x1f1df390>"
      ]
     },
     "metadata": {},
     "output_type": "display_data"
    }
   ],
   "source": [
    "import numpy as np\n",
    "import matplotlib.pyplot as plt\n",
    "from mpl_toolkits.mplot3d import Axes3D\n",
    "from matplotlib import cm as cm_mlib\n",
    "from matplotlib.ticker import LinearLocator, FormatStrFormatter\n",
    "import scipy\n",
    "import scipy.stats\n",
    "%matplotlib inline\n",
    "plt.viridis()\n",
    "from matplotlib import animation, rc\n",
    "from IPython.display import HTML\n",
    "from brian2.units import *\n",
    "\n",
    "from mpl_toolkits.axes_grid1 import make_axes_locatable\n",
    "\n",
    "import matplotlib as mlib\n",
    "from scipy import stats\n",
    "\n",
    "from pprint import pprint as pp\n",
    "\n",
    "\n",
    "import matplotlib.transforms as mtransforms\n",
    "mlib.rcParams.update({'font.size': 25})\n",
    "mlib.rcParams.update({'errorbar.capsize': 5})"
   ]
  },
  {
   "cell_type": "code",
   "execution_count": 2,
   "metadata": {
    "collapsed": true
   },
   "outputs": [],
   "source": [
    "simtime = 300000\n",
    "t_record = simtime\n",
    "t_stim = 200"
   ]
  },
  {
   "cell_type": "code",
   "execution_count": 3,
   "metadata": {
    "collapsed": true
   },
   "outputs": [],
   "source": [
    "n = 16\n",
    "f_mean = 20\n",
    "f_base = 5\n",
    "on_rates = np.ones((n, n, 1)) * f_mean\n",
    "off_rates = np.ones((n, n, 1)) * f_base\n"
   ]
  },
  {
   "cell_type": "code",
   "execution_count": 4,
   "metadata": {
    "collapsed": false
   },
   "outputs": [
    {
     "data": {
      "text/plain": [
       "1"
      ]
     },
     "execution_count": 4,
     "metadata": {},
     "output_type": "execute_result"
    }
   ],
   "source": [
    "simtime // t_record"
   ]
  },
  {
   "cell_type": "code",
   "execution_count": 5,
   "metadata": {
    "collapsed": false
   },
   "outputs": [],
   "source": [
    "rates_a = np.tile(np.concatenate((off_rates, off_rates, on_rates, on_rates), axis=2), simtime//(4*t_stim))\n",
    "rates_b = np.tile(np.concatenate((off_rates, on_rates, off_rates, on_rates), axis=2), simtime//(4*t_stim))"
   ]
  },
  {
   "cell_type": "code",
   "execution_count": 6,
   "metadata": {
    "collapsed": false
   },
   "outputs": [
    {
     "data": {
      "text/plain": [
       "(16L, 16L, 1500L)"
      ]
     },
     "execution_count": 6,
     "metadata": {},
     "output_type": "execute_result"
    }
   ],
   "source": [
    "rates_a.shape"
   ]
  },
  {
   "cell_type": "code",
   "execution_count": 7,
   "metadata": {
    "collapsed": false
   },
   "outputs": [
    {
     "data": {
      "text/plain": [
       "array([  5.,   5.,  20., ...,   5.,  20.,  20.])"
      ]
     },
     "execution_count": 7,
     "metadata": {},
     "output_type": "execute_result"
    }
   ],
   "source": [
    "rates_a[0,0,:]"
   ]
  },
  {
   "cell_type": "code",
   "execution_count": 8,
   "metadata": {
    "collapsed": false
   },
   "outputs": [
    {
     "data": {
      "text/plain": [
       "(16L, 16L, 1500L)"
      ]
     },
     "execution_count": 8,
     "metadata": {},
     "output_type": "execute_result"
    }
   ],
   "source": [
    "rates_b.shape"
   ]
  },
  {
   "cell_type": "code",
   "execution_count": 9,
   "metadata": {
    "collapsed": false
   },
   "outputs": [
    {
     "data": {
      "text/plain": [
       "array([  5.,  20.,   5., ...,  20.,   5.,  20.])"
      ]
     },
     "execution_count": 9,
     "metadata": {},
     "output_type": "execute_result"
    }
   ],
   "source": [
    "rates_b[0,0,:]"
   ]
  },
  {
   "cell_type": "code",
   "execution_count": 10,
   "metadata": {
    "collapsed": false
   },
   "outputs": [
    {
     "data": {
      "text/plain": [
       "300000"
      ]
     },
     "execution_count": 10,
     "metadata": {},
     "output_type": "execute_result"
    }
   ],
   "source": [
    "1500 * 200"
   ]
  },
  {
   "cell_type": "code",
   "execution_count": 39,
   "metadata": {
    "collapsed": false
   },
   "outputs": [
    {
     "data": {
      "text/plain": [
       "array([[  5.,   5.,  20., ...,   5.,  20.,  20.],\n",
       "       [  5.,   5.,  20., ...,   5.,  20.,  20.],\n",
       "       [  5.,   5.,  20., ...,   5.,  20.,  20.],\n",
       "       ..., \n",
       "       [  5.,   5.,  20., ...,   5.,  20.,  20.],\n",
       "       [  5.,   5.,  20., ...,   5.,  20.,  20.],\n",
       "       [  5.,   5.,  20., ...,   5.,  20.,  20.]])"
      ]
     },
     "execution_count": 39,
     "metadata": {},
     "output_type": "execute_result"
    }
   ],
   "source": [
    "rates_a.reshape(n**2, simtime//t_stim) "
   ]
  },
  {
   "cell_type": "code",
   "execution_count": 49,
   "metadata": {
    "collapsed": false
   },
   "outputs": [
    {
     "name": "stdout",
     "output_type": "stream",
     "text": [
      "{'a_minus': 0.0375,\n",
      " 'a_plus': 0.1,\n",
      " 'b': 1.2,\n",
      " 'case': 1,\n",
      " 'cell_params': {'cm': 20.0,\n",
      "                 'e_rev_E': 0.0,\n",
      "                 'e_rev_I': -80.0,\n",
      "                 'i_offset': 0.0,\n",
      "                 'tau_m': 20.0,\n",
      "                 'tau_refrac': 5.0,\n",
      "                 'tau_syn_E': 5.0,\n",
      "                 'tau_syn_I': 5.0,\n",
      "                 'v_reset': -70.0,\n",
      "                 'v_rest': -70.0,\n",
      "                 'v_thresh': -50.0},\n",
      " 'delay': 1,\n",
      " 'f_base': 5,\n",
      " 'f_peak': 152.8,\n",
      " 'f_rew': 10000,\n",
      " 'g_max': 0.1,\n",
      " 'grid': array([16, 16]),\n",
      " 'input_type': 1,\n",
      " 'lateral_inhibition': False,\n",
      " 'lesion': 0,\n",
      " 'p_elim_dep': 0.0245,\n",
      " 'p_elim_pot': 0.00013600000000000003,\n",
      " 'p_form_forward': 0.16,\n",
      " 'p_form_lateral': 1,\n",
      " 'random_partner': False,\n",
      " 's_max': 32,\n",
      " 'sigma_form_forward': 2.5,\n",
      " 'sigma_form_lateral': 1,\n",
      " 'sigma_stim': 2,\n",
      " 'simtime': 300000,\n",
      " 't_minus': 64,\n",
      " 't_plus': 20.0,\n",
      " 't_record': 300000,\n",
      " 't_stim': 200,\n",
      " 'tau_refrac': 5.0}\n"
     ]
    }
   ],
   "source": [
    "data = np.load(\"C:/Work/phd/synaptogenesis/xor_results_150358_08052018.npz\")\n",
    "# data = np.load(\"C:/Work/phd/synaptogenesis/case_3_forever.npz\")\n",
    "\n",
    "simdata = np.array(data['sim_params']).ravel()[0]\n",
    "grid = simdata['grid']\n",
    "pp(simdata)\n",
    "\n"
   ]
  },
  {
   "cell_type": "code",
   "execution_count": 50,
   "metadata": {
    "collapsed": false
   },
   "outputs": [
    {
     "data": {
      "text/plain": [
       "['sim_params',\n",
       " 'total_time',\n",
       " 'init_lat_connections',\n",
       " 'post_spikes',\n",
       " 'simtime',\n",
       " 'init_ff_connections',\n",
       " 'input_type',\n",
       " 'final_weights_a',\n",
       " 'final_weights_b',\n",
       " 'insult',\n",
       " 'exception',\n",
       " 'pre_spikes',\n",
       " 'ff_connections_a',\n",
       " 'mean_firing_rate',\n",
       " 'ff_connections_b']"
      ]
     },
     "execution_count": 50,
     "metadata": {},
     "output_type": "execute_result"
    }
   ],
   "source": [
    "data.files"
   ]
  },
  {
   "cell_type": "code",
   "execution_count": 51,
   "metadata": {
    "collapsed": true
   },
   "outputs": [],
   "source": [
    "simtime = data['simtime']"
   ]
  },
  {
   "cell_type": "code",
   "execution_count": 52,
   "metadata": {
    "collapsed": false
   },
   "outputs": [
    {
     "name": "stdout",
     "output_type": "stream",
     "text": [
      "average firing rate: 2.16064063 kHz\n"
     ]
    }
   ],
   "source": [
    "print \"average firing rate:\", data['post_spikes'].shape[0]/256. * Hz"
   ]
  },
  {
   "cell_type": "code",
   "execution_count": 53,
   "metadata": {
    "collapsed": false
   },
   "outputs": [
    {
     "data": {
      "text/plain": [
       "array([  0.,  38.])"
      ]
     },
     "execution_count": 53,
     "metadata": {},
     "output_type": "execute_result"
    }
   ],
   "source": [
    "data['post_spikes'][0, :]"
   ]
  },
  {
   "cell_type": "code",
   "execution_count": 54,
   "metadata": {
    "collapsed": false
   },
   "outputs": [
    {
     "name": "stdout",
     "output_type": "stream",
     "text": [
      "1500\n"
     ]
    }
   ],
   "source": [
    "bins = simtime // 200\n",
    "print bins\n",
    "target_pop_rate_evo = np.ones(bins)*np.nan"
   ]
  },
  {
   "cell_type": "code",
   "execution_count": 55,
   "metadata": {
    "collapsed": false
   },
   "outputs": [],
   "source": [
    "for _index, value in np.ndenumerate(target_pop_rate_evo):\n",
    "    index =  _index[0]\n",
    "    target_pop_rate_evo[index] = np.count_nonzero(\n",
    "        np.logical_and(\n",
    "            data['post_spikes'][:,1] >= (index * simtime/float(bins)), \n",
    "            data['post_spikes'][:,1] <= ((index+1) * simtime/float(bins))\n",
    "        )\n",
    "    )\n",
    "# target_pop_rate_evo *=100"
   ]
  },
  {
   "cell_type": "code",
   "execution_count": 56,
   "metadata": {
    "collapsed": false
   },
   "outputs": [
    {
     "data": {
      "text/plain": [
       "array([ 3659.,   637.,   209., ...,   869.,   144.,   491.])"
      ]
     },
     "execution_count": 56,
     "metadata": {},
     "output_type": "execute_result"
    }
   ],
   "source": [
    "target_pop_rate_evo"
   ]
  },
  {
   "cell_type": "code",
   "execution_count": 57,
   "metadata": {
    "collapsed": false
   },
   "outputs": [
    {
     "data": {
      "image/png": "[encoded data removed]",
      "text/plain": [
       "<matplotlib.figure.Figure at 0x215e33c8>"
      ]
     },
     "metadata": {},
     "output_type": "display_data"
    }
   ],
   "source": [
    "f, (ax1) = plt.subplots(1, 1 ,figsize=(16, 8), dpi=800)\n",
    "ax1.plot(target_pop_rate_evo, color='#440357')\n",
    "xticks = np.asarray(np.arange(bins))\n",
    "# ax1.set_xticks(xticks)\n",
    "# ax1.set_xticklabels(xticks[::50])\n",
    "\n",
    "# ax1.set_xlim([-.5, 100])\n",
    "# ax1.set_ylim([0, 30])\n",
    "ax1.set_ylabel(\"Mean firing rate (Hz)\")\n",
    "ax1.set_xlabel(\"Bin\")\n",
    "\n",
    "# x = np.arange(simtime // 800)\n",
    "# y = np.logical_or(x%4==1, x%4==2)\n",
    "\n",
    "# x = np.arange(0.0, 2, 0.01)\n",
    "# y = np.sin(4*np.pi*x)\n",
    "# trans = mtransforms.blended_transform_factory(ax1.transData, ax1.transAxes)\n",
    "\n",
    "# ax1.axhline(theta, color='green', lw=2, alpha=0.5)\n",
    "# ax1.axhline(-theta, color='red', lw=2, alpha=0.5)\n",
    "# ax1.fill_between(x, 0, 1, where=y > theta, facecolor='green', alpha=0.5, transform=trans)\n",
    "# ax1.fill_between(x, 0, 1, where=y < -theta, facecolor='red', alpha=0.5, transform=trans)\n",
    "\n",
    "# ax1.set_facecolor((1, 0.47, 0.42))\n",
    "\n",
    "ax1.legend(loc='upper left')\n",
    "plt.tight_layout()\n",
    "plt.savefig(\"xor_rate_evo.png\", dpi=800)\n",
    "plt.show()"
   ]
  },
  {
   "cell_type": "code",
   "execution_count": 58,
   "metadata": {
    "collapsed": false
   },
   "outputs": [
    {
     "data": {
      "text/plain": [
       "array([ 1763.,   321.,   144.,   163.,    46.,   122.,    91.,   180.,\n",
       "          63.,   154.,   134.,   170.])"
      ]
     },
     "execution_count": 58,
     "metadata": {},
     "output_type": "execute_result"
    }
   ],
   "source": [
    "target_pop_rate_evo[398:410]"
   ]
  },
  {
   "cell_type": "code",
   "execution_count": 59,
   "metadata": {
    "collapsed": false
   },
   "outputs": [],
   "source": [
    "desired_response = np.tile([0, 1, 1, 0], simtime//(4*t_stim))"
   ]
  },
  {
   "cell_type": "code",
   "execution_count": 60,
   "metadata": {
    "collapsed": false
   },
   "outputs": [
    {
     "data": {
      "text/plain": [
       "(1500L,)"
      ]
     },
     "execution_count": 60,
     "metadata": {},
     "output_type": "execute_result"
    }
   ],
   "source": [
    "target_pop_rate_evo.shape"
   ]
  },
  {
   "cell_type": "code",
   "execution_count": 61,
   "metadata": {
    "collapsed": false
   },
   "outputs": [
    {
     "name": "stdout",
     "output_type": "stream",
     "text": [
      "0.00382618201694\n",
      "1.0\n",
      "0.101331146944\n",
      "0.0583492757584\n"
     ]
    }
   ],
   "source": [
    "normalised_firing_rate = target_pop_rate_evo / np.max(target_pop_rate_evo)\n",
    "print np.min(normalised_firing_rate)\n",
    "print np.max(normalised_firing_rate)\n",
    "print np.mean(normalised_firing_rate)\n",
    "print np.median(normalised_firing_rate)"
   ]
  },
  {
   "cell_type": "code",
   "execution_count": 62,
   "metadata": {
    "collapsed": false
   },
   "outputs": [
    {
     "data": {
      "text/plain": [
       "(-0.016320717895144651, 0.52763926633544767)"
      ]
     },
     "execution_count": 62,
     "metadata": {},
     "output_type": "execute_result"
    }
   ],
   "source": [
    "stats.pearsonr(normalised_firing_rate, desired_response)"
   ]
  },
  {
   "cell_type": "code",
   "execution_count": 63,
   "metadata": {
    "collapsed": false
   },
   "outputs": [],
   "source": [
    "thresholded_output_rates = (normalised_firing_rate>np.mean(normalised_firing_rate)).astype(int)"
   ]
  },
  {
   "cell_type": "code",
   "execution_count": 64,
   "metadata": {
    "collapsed": false
   },
   "outputs": [
    {
     "data": {
      "text/plain": [
       "array([1, 1, 0, ..., 1, 0, 1])"
      ]
     },
     "execution_count": 64,
     "metadata": {},
     "output_type": "execute_result"
    }
   ],
   "source": [
    "thresholded_output_rates"
   ]
  },
  {
   "cell_type": "code",
   "execution_count": 65,
   "metadata": {
    "collapsed": false
   },
   "outputs": [
    {
     "data": {
      "text/plain": [
       "(-0.0060043366972086518, 0.84959278544651673)"
      ]
     },
     "execution_count": 65,
     "metadata": {},
     "output_type": "execute_result"
    }
   ],
   "source": [
    "stats.pearsonr(thresholded_output_rates[500:], desired_response[500:])"
   ]
  },
  {
   "cell_type": "code",
   "execution_count": 66,
   "metadata": {
    "collapsed": false
   },
   "outputs": [],
   "source": [
    "rmse = np.sqrt(np.mean((desired_response[500:] - thresholded_output_rates[500:])**2))"
   ]
  },
  {
   "cell_type": "code",
   "execution_count": 67,
   "metadata": {
    "collapsed": false
   },
   "outputs": [
    {
     "name": "stdout",
     "output_type": "stream",
     "text": [
      "0.70922492906\n"
     ]
    }
   ],
   "source": [
    "print rmse"
   ]
  },
  {
   "cell_type": "code",
   "execution_count": 74,
   "metadata": {
    "collapsed": false
   },
   "outputs": [],
   "source": [
    "diff = np.concatenate(([0],(np.ediff1d(target_pop_rate_evo)>=0).astype(int)))"
   ]
  },
  {
   "cell_type": "code",
   "execution_count": 75,
   "metadata": {
    "collapsed": false
   },
   "outputs": [
    {
     "data": {
      "text/plain": [
       "(1500L,)"
      ]
     },
     "execution_count": 75,
     "metadata": {},
     "output_type": "execute_result"
    }
   ],
   "source": [
    "diff.shape"
   ]
  },
  {
   "cell_type": "code",
   "execution_count": 76,
   "metadata": {
    "collapsed": true
   },
   "outputs": [],
   "source": [
    "rd = diff.reshape(4, diff.shape[0]//4)"
   ]
  },
  {
   "cell_type": "code",
   "execution_count": 78,
   "metadata": {
    "collapsed": false
   },
   "outputs": [
    {
     "name": "stdout",
     "output_type": "stream",
     "text": [
      "[ 0.53333333  0.49066667  0.50133333  0.50933333]\n"
     ]
    }
   ],
   "source": [
    "print np.mean(rd, axis=1)"
   ]
  },
  {
   "cell_type": "code",
   "execution_count": 79,
   "metadata": {
    "collapsed": false
   },
   "outputs": [
    {
     "name": "stdout",
     "output_type": "stream",
     "text": [
      "[ 0.16        0.312       0.45333333  0.60533333]\n"
     ]
    }
   ],
   "source": [
    "print np.mean(thresholded_output_rates.reshape(4, thresholded_output_rates.shape[0]//4), axis=1)"
   ]
  },
  {
   "cell_type": "code",
   "execution_count": null,
   "metadata": {
    "collapsed": true
   },
   "outputs": [],
   "source": []
  }
 ],
 "metadata": {
  "kernelspec": {
   "display_name": "Python 2",
   "language": "python",
   "name": "python2"
  },
  "language_info": {
   "codemirror_mode": {
    "name": "ipython",
    "version": 2
   },
   "file_extension": ".py",
   "mimetype": "text/x-python",
   "name": "python",
   "nbconvert_exporter": "python",
   "pygments_lexer": "ipython2",
   "version": "2.7.9"
  }
 },
 "nbformat": 4,
 "nbformat_minor": 0
}
