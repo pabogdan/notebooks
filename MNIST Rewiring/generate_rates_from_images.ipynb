{
 "cells": [
  {
   "cell_type": "code",
   "execution_count": 8,
   "metadata": {
    "collapsed": false
   },
   "outputs": [
    {
     "name": "stdout",
     "output_type": "stream",
     "text": [
      "processing class 0\n"
     ]
    },
    {
     "ename": "IOError",
     "evalue": "[Errno 22] Invalid argument",
     "output_type": "error",
     "traceback": [
      "\u001b[1;31m---------------------------------------------------------------------------\u001b[0m",
      "\u001b[1;31mIOError\u001b[0m                                   Traceback (most recent call last)",
      "\u001b[1;32m<ipython-input-8-1ef81a1c75e2>\u001b[0m in \u001b[0;36m<module>\u001b[1;34m()\u001b[0m\n\u001b[0;32m     68\u001b[0m \u001b[1;32mfor\u001b[0m \u001b[0mcls\u001b[0m \u001b[1;32min\u001b[0m \u001b[0mrange\u001b[0m\u001b[1;33m(\u001b[0m\u001b[1;36m0\u001b[0m\u001b[1;33m,\u001b[0m \u001b[1;36m10\u001b[0m\u001b[1;33m)\u001b[0m\u001b[1;33m:\u001b[0m\u001b[1;33m\u001b[0m\u001b[0m\n\u001b[0;32m     69\u001b[0m     \u001b[1;32mprint\u001b[0m\u001b[1;33m(\u001b[0m\u001b[1;34m\"processing class %d\"\u001b[0m\u001b[1;33m%\u001b[0m\u001b[0mcls\u001b[0m\u001b[1;33m)\u001b[0m\u001b[1;33m\u001b[0m\u001b[0m\n\u001b[1;32m---> 70\u001b[1;33m     \u001b[0mprocess_all\u001b[0m\u001b[1;33m(\u001b[0m\u001b[0mimg_path\u001b[0m\u001b[1;33m,\u001b[0m \u001b[0msetname\u001b[0m\u001b[1;33m,\u001b[0m \u001b[0mcls\u001b[0m\u001b[1;33m,\u001b[0m \u001b[0mout_path\u001b[0m\u001b[1;33m,\u001b[0m \u001b[0mimg_w\u001b[0m\u001b[1;33m,\u001b[0m \u001b[0mimg_h\u001b[0m\u001b[1;33m)\u001b[0m\u001b[1;33m\u001b[0m\u001b[0m\n\u001b[0m",
      "\u001b[1;32m<ipython-input-8-1ef81a1c75e2>\u001b[0m in \u001b[0;36mprocess_all\u001b[1;34m(in_path, setname, class_idx, out_path, width, height, kernel, middle_level, min_rate, max_rate, n_imgs)\u001b[0m\n\u001b[0;32m     46\u001b[0m \u001b[1;33m\u001b[0m\u001b[0m\n\u001b[0;32m     47\u001b[0m     arr_on  = np.memmap(os.path.join(out_path, file_on), dtype='float32', \n\u001b[1;32m---> 48\u001b[1;33m                 mode='w+', shape=(len(img_paths), height, width))\n\u001b[0m\u001b[0;32m     49\u001b[0m     arr_off = np.memmap(os.path.join(out_path, file_off), dtype='float32', \n\u001b[0;32m     50\u001b[0m                 mode='w+', shape=(len(img_paths), height, width))\n",
      "\u001b[1;32mC:\\WinPython-64bit-2.7.9.4\\python-2.7.9.amd64\\lib\\site-packages\\numpy\\core\\memmap.pyc\u001b[0m in \u001b[0;36m__new__\u001b[1;34m(subtype, filename, dtype, mode, offset, shape, order)\u001b[0m\n\u001b[0;32m    248\u001b[0m \u001b[1;33m\u001b[0m\u001b[0m\n\u001b[0;32m    249\u001b[0m         \u001b[1;32mif\u001b[0m \u001b[0mmode\u001b[0m \u001b[1;33m==\u001b[0m \u001b[1;34m'w+'\u001b[0m \u001b[1;32mor\u001b[0m \u001b[1;33m(\u001b[0m\u001b[0mmode\u001b[0m \u001b[1;33m==\u001b[0m \u001b[1;34m'r+'\u001b[0m \u001b[1;32mand\u001b[0m \u001b[0mflen\u001b[0m \u001b[1;33m<\u001b[0m \u001b[0mbytes\u001b[0m\u001b[1;33m)\u001b[0m\u001b[1;33m:\u001b[0m\u001b[1;33m\u001b[0m\u001b[0m\n\u001b[1;32m--> 250\u001b[1;33m             \u001b[0mfid\u001b[0m\u001b[1;33m.\u001b[0m\u001b[0mseek\u001b[0m\u001b[1;33m(\u001b[0m\u001b[0mbytes\u001b[0m \u001b[1;33m-\u001b[0m \u001b[1;36m1\u001b[0m\u001b[1;33m,\u001b[0m \u001b[1;36m0\u001b[0m\u001b[1;33m)\u001b[0m\u001b[1;33m\u001b[0m\u001b[0m\n\u001b[0m\u001b[0;32m    251\u001b[0m             \u001b[0mfid\u001b[0m\u001b[1;33m.\u001b[0m\u001b[0mwrite\u001b[0m\u001b[1;33m(\u001b[0m\u001b[1;34mb'\\0'\u001b[0m\u001b[1;33m)\u001b[0m\u001b[1;33m\u001b[0m\u001b[0m\n\u001b[0;32m    252\u001b[0m             \u001b[0mfid\u001b[0m\u001b[1;33m.\u001b[0m\u001b[0mflush\u001b[0m\u001b[1;33m(\u001b[0m\u001b[1;33m)\u001b[0m\u001b[1;33m\u001b[0m\u001b[0m\n",
      "\u001b[1;31mIOError\u001b[0m: [Errno 22] Invalid argument"
     ]
    }
   ],
   "source": [
    "%matplotlib inline\n",
    "import numpy as np\n",
    "import matplotlib.pyplot as plt\n",
    "import os\n",
    "import glob\n",
    "import sys\n",
    "from scipy import misc\n",
    "\n",
    "\n",
    "def get_filenames(img_dir, class_idx):\n",
    "    imgs = []\n",
    "    img_idx = 0\n",
    "    image_list = glob.glob(os.path.join(img_dir, \"*.png\"))\n",
    "    image_list.sort()\n",
    "    for img in image_list:\n",
    "        if os.path.isfile(img):\n",
    "            fsplit = img.split('_')\n",
    "            if int(fsplit[-2]) == class_idx:\n",
    "                imgs.append(img)\n",
    "\n",
    "    return imgs\n",
    "\n",
    "def img_to_rates(img, middle_level=127., min_rate=5., max_rate=50.):\n",
    "    _on  = np.where(img > middle_level)\n",
    "    _off = np.where(img <= middle_level)\n",
    "    np.random.seed()\n",
    "    rates_on = np.random.randint(0, min_rate+1, size=img.shape).astype('float32')\n",
    "    rates_on[_off] = 0.\n",
    "\n",
    "    np.random.seed()\n",
    "    rates_off = np.random.randint(0, min_rate+1, size=img.shape).astype('float32')\n",
    "    rates_off[_on] = 0. \n",
    "    \n",
    "    rates_on[_on]   += np.round( ((img[_on] - middle_level) * max_rate)/(middle_level) )\n",
    "    rates_off[_off] += np.round( ((middle_level - img[_off] ) * max_rate)/(middle_level) )\n",
    "    rates_on[:] = np.clip(rates_on, 0, max_rate+min_rate)\n",
    "    rates_off[:] = np.clip(rates_off, 0, max_rate+min_rate)\n",
    "    return rates_on, rates_off\n",
    "\n",
    "def process_all(in_path, setname, class_idx, out_path, width, height, kernel=None,\n",
    "                middle_level=np.round(255*0.27), min_rate=5., max_rate=50., n_imgs=-1):\n",
    "    img_paths = get_filenames(os.path.join(in_path, setname), class_idx)\n",
    "    out_template = 'class_%d__%06d_samples__width_%03d__height_%03d__%s_channel__midLevel_%03d__maxRate_%02d.npy'\n",
    "    file_on  = out_template%(class_idx, len(img_paths), width, height, 'on', middle_level, max_rate)\n",
    "    file_off = out_template%(class_idx, len(img_paths), width, height, 'off', middle_level, max_rate)\n",
    "    \n",
    "    arr_on  = np.memmap(os.path.join(out_path, file_on), dtype='float32', \n",
    "                mode='w+', shape=(len(img_paths), height, width))\n",
    "    arr_off = np.memmap(os.path.join(out_path, file_off), dtype='float32', \n",
    "                mode='w+', shape=(len(img_paths), height, width))\n",
    "    img = np.zeros((height, width))\n",
    "    \n",
    "    for i, pth in enumerate(img_paths[:n_imgs]):\n",
    "        img[:] = misc.imread(pth, flatten=True)\n",
    "        if kernel is not None:\n",
    "            ### convolve the image with the kernel and then separate\n",
    "            pass\n",
    "        arr_on[i,:,:], arr_off[i, :, :] = img_to_rates(img, middle_level, min_rate, max_rate)\n",
    "\n",
    "#     print(arr_on.shape)\n",
    "\n",
    "\n",
    "setname = 'train'\n",
    "class_idx = 0\n",
    "img_w, img_h = 28, 28\n",
    "img_path = './'\n",
    "out_path = './'\n",
    "for cls in range(0, 10):\n",
    "    print(\"processing class %d\"%cls)\n",
    "    process_all(img_path, setname, cls, out_path, img_w, img_h)\n"
   ]
  },
  {
   "cell_type": "code",
   "execution_count": null,
   "metadata": {
    "collapsed": false
   },
   "outputs": [],
   "source": [
    "# plt.figure()\n",
    "# ax = plt.subplot(1, 3, 1)\n",
    "# plt.imshow(img, interpolation='none')\n",
    "\n",
    "# ax = plt.subplot(1, 3, 2)\n",
    "# plt.imshow(rates_on, interpolation='none')\n",
    "\n",
    "# ax = plt.subplot(1, 3, 3)\n",
    "# plt.imshow(rates_off, interpolation='none')\n",
    "\n",
    "# plt.show()"
   ]
  },
  {
   "cell_type": "code",
   "execution_count": null,
   "metadata": {
    "collapsed": true
   },
   "outputs": [],
   "source": []
  }
 ],
 "metadata": {
  "kernelspec": {
   "display_name": "Python 2",
   "language": "python",
   "name": "python2"
  },
  "language_info": {
   "codemirror_mode": {
    "name": "ipython",
    "version": 2
   },
   "file_extension": ".py",
   "mimetype": "text/x-python",
   "name": "python",
   "nbconvert_exporter": "python",
   "pygments_lexer": "ipython2",
   "version": "2.7.9"
  }
 },
 "nbformat": 4,
 "nbformat_minor": 0
}
