{
 "cells": [
  {
   "cell_type": "code",
   "execution_count": 29,
   "metadata": {
    "collapsed": false
   },
   "outputs": [
    {
     "data": {
      "text/plain": [
       "<matplotlib.figure.Figure at 0x1c4dd550>"
      ]
     },
     "metadata": {},
     "output_type": "display_data"
    }
   ],
   "source": [
    "import numpy as np\n",
    "import matplotlib.pyplot as plt\n",
    "from mpl_toolkits.mplot3d import Axes3D\n",
    "from matplotlib import cm\n",
    "from matplotlib.ticker import LinearLocator, FormatStrFormatter\n",
    "import scipy\n",
    "import scipy.stats as stats\n",
    "%matplotlib inline\n",
    "plt.viridis()\n",
    "from matplotlib import animation, rc\n",
    "from IPython.display import HTML\n",
    "from brian2.units import *"
   ]
  },
  {
   "cell_type": "code",
   "execution_count": 30,
   "metadata": {
    "collapsed": false
   },
   "outputs": [],
   "source": [
    "data_lesioned = np.load(\"std_ad_data_lesioned.npz\")\n",
    "data_lesioned_2 = np.load(\"std_ad_data_lesioned_2.npz\")\n",
    "\n",
    "data_non_lesioned = np.load(\"std_ad_data_non_lesioned.npz\")\n",
    "data_non_lesioned_2 = np.load(\"std_ad_data_non_lesioned_2.npz\")"
   ]
  },
  {
   "cell_type": "code",
   "execution_count": 31,
   "metadata": {
    "collapsed": true
   },
   "outputs": [],
   "source": [
    "lesioned_fin_stds_conn = data_lesioned['fin_stds_conn']\n",
    "lesioned_fin_stds_weight = data_lesioned['fin_stds_weight']\n",
    "lesioned_fin_AD_conn = data_lesioned['fin_AD_conn']\n",
    "lesioned_fin_AD_weight = data_lesioned['fin_AD_weight']\n",
    "\n",
    "lesioned_fin_stds_conn_2 = data_lesioned_2['fin_stds_conn']\n",
    "lesioned_fin_stds_weight_2 = data_lesioned_2['fin_stds_weight']\n",
    "lesioned_fin_AD_conn_2 = data_lesioned_2['fin_AD_conn']\n",
    "lesioned_fin_AD_weight_2 = data_lesioned_2['fin_AD_weight']\n",
    "\n",
    "non_lesioned_fin_stds_conn = data_non_lesioned['fin_stds_conn']\n",
    "non_lesioned_fin_stds_weight = data_non_lesioned['fin_stds_weight']\n",
    "non_lesioned_fin_AD_conn = data_non_lesioned['fin_AD_conn']\n",
    "non_lesioned_fin_AD_weight = data_non_lesioned['fin_AD_weight']\n",
    "\n",
    "non_lesioned_fin_stds_conn_2 = data_non_lesioned_2['fin_stds_conn']\n",
    "non_lesioned_fin_stds_weight_2 = data_non_lesioned_2['fin_stds_weight']\n",
    "non_lesioned_fin_AD_conn_2 = data_non_lesioned_2['fin_AD_conn']\n",
    "non_lesioned_fin_AD_weight_2 = data_non_lesioned_2['fin_AD_weight']"
   ]
  },
  {
   "cell_type": "markdown",
   "metadata": {},
   "source": [
    "# Are the results from the first run of an insulted network sufficiently different from a non-lesioned run?"
   ]
  },
  {
   "cell_type": "code",
   "execution_count": 32,
   "metadata": {
    "collapsed": true
   },
   "outputs": [],
   "source": [
    "stds_conn_wsr = stats.wilcoxon(lesioned_fin_stds_conn.ravel(), non_lesioned_fin_stds_conn.ravel())\n",
    "stds_weight_wsr = stats.wilcoxon(lesioned_fin_stds_weight.ravel(), non_lesioned_fin_stds_weight.ravel())\n",
    "AD_conn_wsr = stats.wilcoxon(lesioned_fin_AD_conn.ravel(), non_lesioned_fin_AD_conn.ravel())\n",
    "AD_weight_wsr = stats.wilcoxon(lesioned_fin_AD_weight.ravel(), non_lesioned_fin_AD_weight.ravel())"
   ]
  },
  {
   "cell_type": "code",
   "execution_count": 33,
   "metadata": {
    "collapsed": false
   },
   "outputs": [
    {
     "name": "stdout",
     "output_type": "stream",
     "text": [
      "p(WSR sigma aff fin conn vs sigma aff fin conn lesioned)     2.27856834431e-05\n",
      "p(WSR sigma aff fin weight vs sigma aff fin weight lesioned) 0.0491462651299\n",
      "p(WSR AD fin conn vs AD fin conn lesioned)                   3.2277770977e-07\n",
      "p(WSR AD fin weight vs AD fin weight lesioned)               6.86851274264e-13\n"
     ]
    }
   ],
   "source": [
    "print \"%-60s\" % \"p(WSR sigma aff fin conn vs sigma aff fin conn lesioned)\", stds_conn_wsr.pvalue\n",
    "print \"%-60s\" % \"p(WSR sigma aff fin weight vs sigma aff fin weight lesioned)\", stds_weight_wsr.pvalue\n",
    "print \"%-60s\" % \"p(WSR AD fin conn vs AD fin conn lesioned)\", AD_conn_wsr.pvalue\n",
    "print \"%-60s\" % \"p(WSR AD fin weight vs AD fin weight lesioned)\", AD_weight_wsr.pvalue"
   ]
  },
  {
   "cell_type": "markdown",
   "metadata": {},
   "source": [
    "# Are the results from the second run of an insulted network sufficiently different from a non-lesioned run?"
   ]
  },
  {
   "cell_type": "code",
   "execution_count": 34,
   "metadata": {
    "collapsed": true
   },
   "outputs": [],
   "source": [
    "stds_conn_wsr_3 = stats.wilcoxon(lesioned_fin_stds_conn_2.ravel(), non_lesioned_fin_stds_conn.ravel())\n",
    "stds_weight_wsr_3 = stats.wilcoxon(lesioned_fin_stds_weight_2.ravel(), non_lesioned_fin_stds_weight.ravel())\n",
    "AD_conn_wsr_3 = stats.wilcoxon(lesioned_fin_AD_conn_2.ravel(), non_lesioned_fin_AD_conn.ravel())\n",
    "AD_weight_wsr_3 = stats.wilcoxon(lesioned_fin_AD_weight_2.ravel(), non_lesioned_fin_AD_weight.ravel())"
   ]
  },
  {
   "cell_type": "code",
   "execution_count": 35,
   "metadata": {
    "collapsed": false
   },
   "outputs": [
    {
     "name": "stdout",
     "output_type": "stream",
     "text": [
      "p(WSR sigma aff fin conn vs sigma aff fin conn lesioned 2)   0.104711714847\n",
      "p(WSR sigma aff fin weight vs sigma aff fin weight lesioned 2) 0.000614090614031\n",
      "p(WSR AD fin conn vs AD fin conn lesioned 2)                 0.00582307729798\n",
      "p(WSR AD fin weight vs AD fin weight lesioned 2)             6.36645185809e-10\n"
     ]
    }
   ],
   "source": [
    "print \"%-60s\" % \"p(WSR sigma aff fin conn vs sigma aff fin conn lesioned 2)\", stds_conn_wsr_3.pvalue\n",
    "print \"%-60s\" % \"p(WSR sigma aff fin weight vs sigma aff fin weight lesioned 2)\", stds_weight_wsr_3.pvalue\n",
    "print \"%-60s\" % \"p(WSR AD fin conn vs AD fin conn lesioned 2)\", AD_conn_wsr_3.pvalue\n",
    "print \"%-60s\" % \"p(WSR AD fin weight vs AD fin weight lesioned 2)\", AD_weight_wsr_3.pvalue"
   ]
  },
  {
   "cell_type": "markdown",
   "metadata": {},
   "source": [
    "# Are the results from the second run of an insulted network sufficiently different from the first run?"
   ]
  },
  {
   "cell_type": "code",
   "execution_count": 36,
   "metadata": {
    "collapsed": true
   },
   "outputs": [],
   "source": [
    "stds_conn_wsr_2 = stats.wilcoxon(lesioned_fin_stds_conn.ravel(), lesioned_fin_stds_conn_2.ravel())\n",
    "stds_weight_wsr_2 = stats.wilcoxon(lesioned_fin_stds_weight.ravel(), lesioned_fin_stds_weight_2.ravel())\n",
    "AD_conn_wsr_2 = stats.wilcoxon(lesioned_fin_AD_conn.ravel(), lesioned_fin_AD_conn_2.ravel())\n",
    "AD_weight_wsr_2 = stats.wilcoxon(lesioned_fin_AD_weight.ravel(), lesioned_fin_AD_weight_2.ravel())"
   ]
  },
  {
   "cell_type": "code",
   "execution_count": 37,
   "metadata": {
    "collapsed": false
   },
   "outputs": [
    {
     "name": "stdout",
     "output_type": "stream",
     "text": [
      "p(WSR sigma aff fin conn lesioned 1 vs sigma aff fin conn lesioned 2) 2.68473854189e-06\n",
      "p(WSR sigma aff fin weight lesioned 1 vs sigma aff fin weight lesioned 2) 9.11269512965e-06\n",
      "p(WSR AD fin conn lesioned 1 vs AD fin conn lesioned 2)      0.0226332973729\n",
      "p(WSR AD fin weight lesioned 1 vs AD fin weight lesioned 2)  0.0583688775051\n"
     ]
    }
   ],
   "source": [
    "print \"%-60s\" % \"p(WSR sigma aff fin conn lesioned 1 vs sigma aff fin conn lesioned 2)\", stds_conn_wsr_2.pvalue\n",
    "print \"%-60s\" % \"p(WSR sigma aff fin weight lesioned 1 vs sigma aff fin weight lesioned 2)\", stds_weight_wsr_2.pvalue\n",
    "print \"%-60s\" % \"p(WSR AD fin conn lesioned 1 vs AD fin conn lesioned 2)\", AD_conn_wsr_2.pvalue\n",
    "print \"%-60s\" % \"p(WSR AD fin weight lesioned 1 vs AD fin weight lesioned 2)\", AD_weight_wsr_2.pvalue"
   ]
  },
  {
   "cell_type": "markdown",
   "metadata": {},
   "source": [
    "# Are the results from the second run of a non-insulted network sufficiently different from the first run of a non-insulted network?"
   ]
  },
  {
   "cell_type": "code",
   "execution_count": 38,
   "metadata": {
    "collapsed": true
   },
   "outputs": [],
   "source": [
    "stds_conn_wsr_non_lesioned_2 = stats.wilcoxon(non_lesioned_fin_stds_conn.ravel(), non_lesioned_fin_stds_conn_2.ravel())\n",
    "stds_weight_wsr_non_lesioned_2 = stats.wilcoxon(non_lesioned_fin_stds_weight.ravel(), non_lesioned_fin_stds_weight_2.ravel())\n",
    "AD_conn_wsr_non_lesioned_2 = stats.wilcoxon(non_lesioned_fin_AD_conn.ravel(), non_lesioned_fin_AD_conn_2.ravel())\n",
    "AD_weight_wsr_non_lesioned_2 = stats.wilcoxon(non_lesioned_fin_AD_weight.ravel(), non_lesioned_fin_AD_weight_2.ravel())"
   ]
  },
  {
   "cell_type": "code",
   "execution_count": 40,
   "metadata": {
    "collapsed": false
   },
   "outputs": [
    {
     "name": "stdout",
     "output_type": "stream",
     "text": [
      "p(WSR sigma aff fin conn non lesioned 1 vs sigma aff fin conn non lesioned 2) 0.860767200128\n",
      "p(WSR sigma aff fin weight non lesioned 1 vs sigma aff fin weight non lesioned 2) 0.68069873337\n",
      "p(WSR AD fin conn non lesioned 1 vs AD fin conn non lesioned 2) 0.000497671723629\n",
      "p(WSR AD fin weight non lesioned 1 vs AD fin weight non lesioned 2) 2.53394990597e-06\n"
     ]
    }
   ],
   "source": [
    "print \"%-60s\" % \"p(WSR sigma aff fin conn non lesioned 1 vs sigma aff fin conn non lesioned 2)\", stds_conn_wsr_non_lesioned_2.pvalue\n",
    "print \"%-60s\" % \"p(WSR sigma aff fin weight non lesioned 1 vs sigma aff fin weight non lesioned 2)\", stds_weight_wsr_non_lesioned_2.pvalue\n",
    "print \"%-60s\" % \"p(WSR AD fin conn non lesioned 1 vs AD fin conn non lesioned 2)\", AD_conn_wsr_non_lesioned_2.pvalue\n",
    "print \"%-60s\" % \"p(WSR AD fin weight non lesioned 1 vs AD fin weight non lesioned 2)\", AD_weight_wsr_non_lesioned_2.pvalue"
   ]
  },
  {
   "cell_type": "markdown",
   "metadata": {},
   "source": [
    "*stats.pearsonr*\n",
    "\n",
    "Calculates a Pearson correlation coefficient and the p-value for testing non-correlation.\n",
    "\n",
    "The Pearson correlation coefficient measures the linear relationship between two datasets. Strictly speaking, Pearson’s correlation requires that each dataset be normally distributed. Like other correlation coefficients, this one varies between -1 and +1 with 0 implying no correlation. Correlations of -1 or +1 imply an exact linear relationship. Positive correlations imply that as x increases, so does y. Negative correlations imply that as x increases, y decreases.\n",
    "\n",
    "The p-value roughly indicates the probability of an uncorrelated system producing datasets that have a Pearson correlation at least as extreme as the one computed from these datasets. The p-values are not entirely reliable but are probably reasonable for datasets larger than 500 or so."
   ]
  },
  {
   "cell_type": "code",
   "execution_count": 41,
   "metadata": {
    "collapsed": true
   },
   "outputs": [],
   "source": [
    "stds_conn_pearson_non_lesioned_2 = stats.pearsonr(non_lesioned_fin_stds_conn.ravel(), non_lesioned_fin_stds_conn_2.ravel())\n",
    "stds_weight_pearson_non_lesioned_2 = stats.pearsonr(non_lesioned_fin_stds_weight.ravel(), non_lesioned_fin_stds_weight_2.ravel())\n",
    "AD_conn_pearson_non_lesioned_2 = stats.pearsonr(non_lesioned_fin_AD_conn.ravel(), non_lesioned_fin_AD_conn_2.ravel())\n",
    "AD_weight_pearson_non_lesioned_2 = stats.pearsonr(non_lesioned_fin_AD_weight.ravel(), non_lesioned_fin_AD_weight_2.ravel())"
   ]
  },
  {
   "cell_type": "code",
   "execution_count": 43,
   "metadata": {
    "collapsed": false
   },
   "outputs": [
    {
     "name": "stdout",
     "output_type": "stream",
     "text": [
      " p(PEARSON sigma aff fin conn non lesioned 1 vs sigma aff fin conn non lesioned 2) (-0.028393096396960804, 0.65115551616286349)\n",
      "p(PEARSON sigma aff fin weight non lesioned 1 vs sigma aff fin weight non lesioned 2) (0.072550004708884064, 0.24741776906045959)\n",
      "p(PEARSON AD fin conn non lesioned 1 vs AD fin conn non lesioned 2) (0.11740132361727333, 0.060693721760511986)\n",
      "p(PEARSON AD fin weight non lesioned 1 vs AD fin weight non lesioned 2) (0.047326277287661145, 0.45088686544874546)\n"
     ]
    }
   ],
   "source": [
    "print \"%-60s\" % \"p(PEARSON sigma aff fin conn non lesioned 1 vs sigma aff fin conn non lesioned 2)\", stds_conn_pearson_non_lesioned_2\n",
    "print \"%-60s\" % \"p(PEARSON sigma aff fin weight non lesioned 1 vs sigma aff fin weight non lesioned 2)\", stds_weight_pearson_non_lesioned_2\n",
    "print \"%-60s\" % \"p(PEARSON AD fin conn non lesioned 1 vs AD fin conn non lesioned 2)\", AD_conn_pearson_non_lesioned_2\n",
    "print \"%-60s\" % \"p(PEARSON AD fin weight non lesioned 1 vs AD fin weight non lesioned 2)\", AD_weight_pearson_non_lesioned_2"
   ]
  },
  {
   "cell_type": "markdown",
   "metadata": {},
   "source": [
    "# Inter-run variability might affect a pair-wise correlation detector"
   ]
  },
  {
   "cell_type": "code",
   "execution_count": 44,
   "metadata": {
    "collapsed": true
   },
   "outputs": [],
   "source": [
    "stds_conn_pearson = stats.pearsonr(lesioned_fin_stds_conn.ravel(), non_lesioned_fin_stds_conn.ravel())\n",
    "stds_weight_pearson = stats.pearsonr(lesioned_fin_stds_weight.ravel(), non_lesioned_fin_stds_weight.ravel())\n",
    "AD_conn_pearson = stats.pearsonr(lesioned_fin_AD_conn.ravel(), non_lesioned_fin_AD_conn.ravel())\n",
    "AD_weight_pearson = stats.pearsonr(lesioned_fin_AD_weight.ravel(), non_lesioned_fin_AD_weight.ravel())"
   ]
  },
  {
   "cell_type": "code",
   "execution_count": 45,
   "metadata": {
    "collapsed": false
   },
   "outputs": [
    {
     "name": "stdout",
     "output_type": "stream",
     "text": [
      "p(PEARSON sigma aff fin conn vs sigma aff fin conn lesioned) (-0.0094710911008701708, 0.8801340835375665)\n",
      "p(PEARSON sigma aff fin weight vs sigma aff fin weight lesioned) (0.06738993913369476, 0.28274026217782938)\n",
      "p(PEARSON AD fin conn vs AD fin conn lesioned)               (-0.034654128214250783, 0.58100425754896812)\n",
      "p(PEARSON AD fin weight vs AD fin weight lesioned)           (-0.015838283478955412, 0.80089559760206708)\n"
     ]
    }
   ],
   "source": [
    "print \"%-60s\" % \"p(PEARSON sigma aff fin conn vs sigma aff fin conn lesioned)\", stds_conn_pearson\n",
    "print \"%-60s\" % \"p(PEARSON sigma aff fin weight vs sigma aff fin weight lesioned)\", stds_weight_pearson\n",
    "print \"%-60s\" % \"p(PEARSON AD fin conn vs AD fin conn lesioned)\", AD_conn_pearson\n",
    "print \"%-60s\" % \"p(PEARSON AD fin weight vs AD fin weight lesioned)\", AD_weight_pearson"
   ]
  },
  {
   "cell_type": "code",
   "execution_count": 46,
   "metadata": {
    "collapsed": true
   },
   "outputs": [],
   "source": [
    "stds_conn_spearman = stats.spearmanr(lesioned_fin_stds_conn.ravel(), non_lesioned_fin_stds_conn.ravel())\n",
    "stds_weight_spearman = stats.spearmanr(lesioned_fin_stds_weight.ravel(), non_lesioned_fin_stds_weight.ravel())\n",
    "AD_conn_spearman = stats.spearmanr(lesioned_fin_AD_conn.ravel(), non_lesioned_fin_AD_conn.ravel())\n",
    "AD_weight_spearman = stats.spearmanr(lesioned_fin_AD_weight.ravel(), non_lesioned_fin_AD_weight.ravel())"
   ]
  },
  {
   "cell_type": "code",
   "execution_count": 47,
   "metadata": {
    "collapsed": false
   },
   "outputs": [
    {
     "name": "stdout",
     "output_type": "stream",
     "text": [
      "p(SPEARMAN sigma aff fin conn vs sigma aff fin conn lesioned) SpearmanrResult(correlation=-0.034156849779135107, pvalue=0.58644570569962351)\n",
      "p(SPEARMAN sigma aff fin weight vs sigma aff fin weight lesioned) SpearmanrResult(correlation=0.022134641794460973, pvalue=0.72449009316712298)\n",
      "p(SPEARMAN AD fin conn vs AD fin conn lesioned)              SpearmanrResult(correlation=0.015168620406858542, pvalue=0.80914893712544511)\n",
      "p(SPEARMAN AD fin weight vs AD fin weight lesioned)          SpearmanrResult(correlation=0.050577374946100748, pvalue=0.42036186633446027)\n"
     ]
    }
   ],
   "source": [
    "print \"%-60s\" % \"p(SPEARMAN sigma aff fin conn vs sigma aff fin conn lesioned)\", stds_conn_spearman\n",
    "print \"%-60s\" % \"p(SPEARMAN sigma aff fin weight vs sigma aff fin weight lesioned)\", stds_weight_spearman\n",
    "print \"%-60s\" % \"p(SPEARMAN AD fin conn vs AD fin conn lesioned)\", AD_conn_spearman\n",
    "print \"%-60s\" % \"p(SPEARMAN AD fin weight vs AD fin weight lesioned)\", AD_weight_spearman"
   ]
  },
  {
   "cell_type": "markdown",
   "metadata": {},
   "source": [
    "# Try same measures for both non-lesioned experiments\n",
    "\n",
    "I expect the two data sets to be EXTREMELY correlated. "
   ]
  },
  {
   "cell_type": "code",
   "execution_count": 48,
   "metadata": {
    "collapsed": true
   },
   "outputs": [],
   "source": [
    "stds_conn_spearman_non_lesioned = stats.spearmanr(non_lesioned_fin_stds_conn_2.ravel(), non_lesioned_fin_stds_conn.ravel())\n",
    "stds_weight_spearman_non_lesioned = stats.spearmanr(non_lesioned_fin_stds_weight_2.ravel(), non_lesioned_fin_stds_weight.ravel())\n",
    "AD_conn_spearman_non_lesioned = stats.spearmanr(non_lesioned_fin_AD_conn_2.ravel(), non_lesioned_fin_AD_conn.ravel())\n",
    "AD_weight_spearman_non_lesioned = stats.spearmanr(non_lesioned_fin_AD_weight_2.ravel(), non_lesioned_fin_AD_weight.ravel())"
   ]
  },
  {
   "cell_type": "code",
   "execution_count": 49,
   "metadata": {
    "collapsed": false
   },
   "outputs": [
    {
     "name": "stdout",
     "output_type": "stream",
     "text": [
      "p(SPEARMAN sigma aff fin conn non lesioned 1 vs sigma aff fin conn non lesioned 2) SpearmanrResult(correlation=-0.024420634012359801, pvalue=0.69736788643523484)\n",
      "p(SPEARMAN sigma aff fin weight non lesioned 1 vs sigma aff fin weight non lesioned 2) SpearmanrResult(correlation=0.088090094987411285, pvalue=0.15993885209191253)\n",
      "p(SPEARMAN AD fin conn non lesioned 1 vs AD fin conn non lesioned 2) SpearmanrResult(correlation=0.092170928042333761, pvalue=0.14138578676359864)\n",
      "p(SPEARMAN AD fin weight non lesioned 1 vs AD fin weight non lesioned 2) SpearmanrResult(correlation=0.023140957860531063, pvalue=0.71250587428319279)\n"
     ]
    }
   ],
   "source": [
    "print \"%-60s\" % \"p(SPEARMAN sigma aff fin conn non lesioned 1 vs sigma aff fin conn non lesioned 2)\", stds_conn_spearman_non_lesioned\n",
    "print \"%-60s\" % \"p(SPEARMAN sigma aff fin weight non lesioned 1 vs sigma aff fin weight non lesioned 2)\", stds_weight_spearman_non_lesioned\n",
    "print \"%-60s\" % \"p(SPEARMAN AD fin conn non lesioned 1 vs AD fin conn non lesioned 2)\", AD_conn_spearman_non_lesioned\n",
    "print \"%-60s\" % \"p(SPEARMAN AD fin weight non lesioned 1 vs AD fin weight non lesioned 2)\", AD_weight_spearman_non_lesioned"
   ]
  },
  {
   "cell_type": "markdown",
   "metadata": {},
   "source": [
    "The results that the two data sets are uncorrelated is not very strong"
   ]
  },
  {
   "cell_type": "code",
   "execution_count": 70,
   "metadata": {
    "collapsed": false
   },
   "outputs": [
    {
     "name": "stdout",
     "output_type": "stream",
     "text": [
      "Should be highly positively correlated SpearmanrResult(correlation=0.99999999999999989, pvalue=6.646897422032013e-64)\n",
      "Should be highly negatively correlated SpearmanrResult(correlation=-0.99999999999999989, pvalue=6.646897422032013e-64)\n",
      "Should be strongly uncorrelated SpearmanrResult(correlation=0.061735824553024246, pvalue=0.050976410340489012)\n",
      "Should also be strongly uncorrelated SpearmanrResult(correlation=-0.12654779371008393, pvalue=0.20961728251545919)\n"
     ]
    }
   ],
   "source": [
    "print \"Should be highly positively correlated\", stats.spearmanr(np.arange(10), range(10, 20))\n",
    "print \"Should be highly negatively correlated\", stats.spearmanr(np.arange(10), range(20, 10, -1))\n",
    "print \"Should be strongly uncorrelated\", stats.spearmanr(np.random.randint(0, 10000, 1000), np.random.randint(0, 10000, 1000))\n",
    "print \"Should also be strongly uncorrelated\", stats.spearmanr(np.random.randint(0, 10000, 100), np.random.randint(0, 10000, 100))"
   ]
  },
  {
   "cell_type": "markdown",
   "metadata": {
    "collapsed": true
   },
   "source": [
    "# Attempt 2 - Both cases surely work correctly and are at 600k"
   ]
  },
  {
   "cell_type": "code",
   "execution_count": 78,
   "metadata": {
    "collapsed": false
   },
   "outputs": [],
   "source": [
    "data_lesioned = np.load(\"std_ad_data_lesion_600k.npz\")\n",
    "\n",
    "data_non_lesioned = np.load(\"std_ad_data_non_lesioned_600k.npz\")"
   ]
  },
  {
   "cell_type": "code",
   "execution_count": 79,
   "metadata": {
    "collapsed": true
   },
   "outputs": [],
   "source": [
    "lesioned_fin_stds_conn = data_lesioned['fin_stds_conn']\n",
    "lesioned_fin_stds_weight = data_lesioned['fin_stds_weight']\n",
    "lesioned_fin_AD_conn = data_lesioned['fin_AD_conn']\n",
    "lesioned_fin_AD_weight = data_lesioned['fin_AD_weight']\n",
    "\n",
    "non_lesioned_fin_stds_conn = data_non_lesioned['fin_stds_conn']\n",
    "non_lesioned_fin_stds_weight = data_non_lesioned['fin_stds_weight']\n",
    "non_lesioned_fin_AD_conn = data_non_lesioned['fin_AD_conn']\n",
    "non_lesioned_fin_AD_weight = data_non_lesioned['fin_AD_weight']"
   ]
  },
  {
   "cell_type": "code",
   "execution_count": 80,
   "metadata": {
    "collapsed": true
   },
   "outputs": [],
   "source": [
    "stds_conn_wsr = stats.wilcoxon(lesioned_fin_stds_conn.ravel(), non_lesioned_fin_stds_conn.ravel())\n",
    "stds_weight_wsr = stats.wilcoxon(lesioned_fin_stds_weight.ravel(), non_lesioned_fin_stds_weight.ravel())\n",
    "AD_conn_wsr = stats.wilcoxon(lesioned_fin_AD_conn.ravel(), non_lesioned_fin_AD_conn.ravel())\n",
    "AD_weight_wsr = stats.wilcoxon(lesioned_fin_AD_weight.ravel(), non_lesioned_fin_AD_weight.ravel())"
   ]
  },
  {
   "cell_type": "code",
   "execution_count": 81,
   "metadata": {
    "collapsed": false
   },
   "outputs": [
    {
     "name": "stdout",
     "output_type": "stream",
     "text": [
      "p(WSR sigma aff fin conn vs sigma aff fin conn lesioned)     0.00380294335893\n",
      "p(WSR sigma aff fin weight vs sigma aff fin weight lesioned) 0.568649002983\n",
      "p(WSR AD fin conn vs AD fin conn lesioned)                   1.51524992664e-19\n",
      "p(WSR AD fin weight vs AD fin weight lesioned)               3.89256970886e-24\n"
     ]
    }
   ],
   "source": [
    "print \"%-60s\" % \"p(WSR sigma aff fin conn vs sigma aff fin conn lesioned)\", stds_conn_wsr.pvalue\n",
    "print \"%-60s\" % \"p(WSR sigma aff fin weight vs sigma aff fin weight lesioned)\", stds_weight_wsr.pvalue\n",
    "print \"%-60s\" % \"p(WSR AD fin conn vs AD fin conn lesioned)\", AD_conn_wsr.pvalue\n",
    "print \"%-60s\" % \"p(WSR AD fin weight vs AD fin weight lesioned)\", AD_weight_wsr.pvalue"
   ]
  },
  {
   "cell_type": "code",
   "execution_count": 82,
   "metadata": {
    "collapsed": true
   },
   "outputs": [],
   "source": [
    "stds_conn_spearman = stats.spearmanr(lesioned_fin_stds_conn.ravel(), non_lesioned_fin_stds_conn.ravel())\n",
    "stds_weight_spearman = stats.spearmanr(lesioned_fin_stds_weight.ravel(), non_lesioned_fin_stds_weight.ravel())\n",
    "AD_conn_spearman = stats.spearmanr(lesioned_fin_AD_conn.ravel(), non_lesioned_fin_AD_conn.ravel())\n",
    "AD_weight_spearman = stats.spearmanr(lesioned_fin_AD_weight.ravel(), non_lesioned_fin_AD_weight.ravel())"
   ]
  },
  {
   "cell_type": "code",
   "execution_count": 83,
   "metadata": {
    "collapsed": false
   },
   "outputs": [
    {
     "name": "stdout",
     "output_type": "stream",
     "text": [
      "p(SPEARMAN sigma aff fin conn vs sigma aff fin conn lesioned) SpearmanrResult(correlation=0.014954079880979625, pvalue=0.81179758382113287)\n",
      "p(SPEARMAN sigma aff fin weight vs sigma aff fin weight lesioned) SpearmanrResult(correlation=-0.078823815518425266, pvalue=0.20876606130023423)\n",
      "p(SPEARMAN AD fin conn vs AD fin conn lesioned)              SpearmanrResult(correlation=0.0375977458911868, pvalue=0.54928507503078405)\n",
      "p(SPEARMAN AD fin weight vs AD fin weight lesioned)          SpearmanrResult(correlation=0.074070318716952244, pvalue=0.23762328968500196)\n"
     ]
    }
   ],
   "source": [
    "print \"%-60s\" % \"p(SPEARMAN sigma aff fin conn vs sigma aff fin conn lesioned)\", stds_conn_spearman\n",
    "print \"%-60s\" % \"p(SPEARMAN sigma aff fin weight vs sigma aff fin weight lesioned)\", stds_weight_spearman\n",
    "print \"%-60s\" % \"p(SPEARMAN AD fin conn vs AD fin conn lesioned)\", AD_conn_spearman\n",
    "print \"%-60s\" % \"p(SPEARMAN AD fin weight vs AD fin weight lesioned)\", AD_weight_spearman"
   ]
  },
  {
   "cell_type": "markdown",
   "metadata": {},
   "source": [
    "# Let's compare case 1: gaussian input + non-lesioned vs. lesioned vs. gaussian input + lesioned"
   ]
  },
  {
   "cell_type": "code",
   "execution_count": 91,
   "metadata": {
    "collapsed": false
   },
   "outputs": [],
   "source": [
    "c1ginl = np.load(\"case_1_gaussian_input_600k/std_ad_data_gaussian_input.npz\")\n",
    "c1l = np.load(\"case_1_lesioned_600k/std_ad_data.npz\")\n",
    "c1gil = np.load(\"case_1_gaussian_input_lesioned_600k/std_ad_data.npz\")"
   ]
  },
  {
   "cell_type": "code",
   "execution_count": 93,
   "metadata": {
    "collapsed": false
   },
   "outputs": [],
   "source": [
    "def wsr_comparison(data1, data2):\n",
    "    lesioned_fin_stds_conn = data1['fin_stds_conn']\n",
    "    lesioned_fin_stds_weight = data1['fin_stds_weight']\n",
    "    lesioned_fin_AD_conn = data1['fin_AD_conn']\n",
    "    lesioned_fin_AD_weight = data1['fin_AD_weight']\n",
    "\n",
    "    non_lesioned_fin_stds_conn = data2['fin_stds_conn']\n",
    "    non_lesioned_fin_stds_weight = data2['fin_stds_weight']\n",
    "    non_lesioned_fin_AD_conn = data2['fin_AD_conn']\n",
    "    non_lesioned_fin_AD_weight = data2['fin_AD_weight']\n",
    "    \n",
    "    stds_conn_wsr = stats.wilcoxon(lesioned_fin_stds_conn.ravel(), non_lesioned_fin_stds_conn.ravel())\n",
    "    stds_weight_wsr = stats.wilcoxon(lesioned_fin_stds_weight.ravel(), non_lesioned_fin_stds_weight.ravel())\n",
    "    AD_conn_wsr = stats.wilcoxon(lesioned_fin_AD_conn.ravel(), non_lesioned_fin_AD_conn.ravel())\n",
    "    AD_weight_wsr = stats.wilcoxon(lesioned_fin_AD_weight.ravel(), non_lesioned_fin_AD_weight.ravel())\n",
    "    print \"%-60s\" % \"p(WSR sigma aff fin conn vs sigma aff fin conn lesioned)\", stds_conn_wsr.pvalue\n",
    "    print \"%-60s\" % \"p(WSR sigma aff fin weight vs sigma aff fin weight lesioned)\", stds_weight_wsr.pvalue\n",
    "    print \"%-60s\" % \"p(WSR AD fin conn vs AD fin conn lesioned)\", AD_conn_wsr.pvalue\n",
    "    print \"%-60s\" % \"p(WSR AD fin weight vs AD fin weight lesioned)\", AD_weight_wsr.pvalue\n",
    "    \n",
    "def spearman_comparison(data1, data2):\n",
    "    lesioned_fin_stds_conn = data1['fin_stds_conn']\n",
    "    lesioned_fin_stds_weight = data1['fin_stds_weight']\n",
    "    lesioned_fin_AD_conn = data1['fin_AD_conn']\n",
    "    lesioned_fin_AD_weight = data1['fin_AD_weight']\n",
    "\n",
    "    non_lesioned_fin_stds_conn = data2['fin_stds_conn']\n",
    "    non_lesioned_fin_stds_weight = data2['fin_stds_weight']\n",
    "    non_lesioned_fin_AD_conn = data2['fin_AD_conn']\n",
    "    non_lesioned_fin_AD_weight = data2['fin_AD_weight']\n",
    "    \n",
    "    stds_conn_spearman = stats.spearmanr(lesioned_fin_stds_conn.ravel(), non_lesioned_fin_stds_conn.ravel())\n",
    "    stds_weight_spearman = stats.spearmanr(lesioned_fin_stds_weight.ravel(), non_lesioned_fin_stds_weight.ravel())\n",
    "    AD_conn_spearman = stats.spearmanr(lesioned_fin_AD_conn.ravel(), non_lesioned_fin_AD_conn.ravel())\n",
    "    AD_weight_spearman = stats.spearmanr(lesioned_fin_AD_weight.ravel(), non_lesioned_fin_AD_weight.ravel())\n",
    "    \n",
    "    print \"%-60s\" % \"p(SPEARMAN sigma aff fin conn vs sigma aff fin conn lesioned)\", stds_conn_spearman\n",
    "    print \"%-60s\" % \"p(SPEARMAN sigma aff fin weight vs sigma aff fin weight lesioned)\", stds_weight_spearman\n",
    "    print \"%-60s\" % \"p(SPEARMAN AD fin conn vs AD fin conn lesioned)\", AD_conn_spearman\n",
    "    print \"%-60s\" % \"p(SPEARMAN AD fin weight vs AD fin weight lesioned)\", AD_weight_spearman"
   ]
  },
  {
   "cell_type": "code",
   "execution_count": 96,
   "metadata": {
    "collapsed": false
   },
   "outputs": [
    {
     "name": "stdout",
     "output_type": "stream",
     "text": [
      "p(WSR sigma aff fin conn vs sigma aff fin conn lesioned)     0.00460634418119\n",
      "p(WSR sigma aff fin weight vs sigma aff fin weight lesioned) 0.027742891903\n",
      "p(WSR AD fin conn vs AD fin conn lesioned)                   0.00082504053699\n",
      "p(WSR AD fin weight vs AD fin weight lesioned)               0.000115948468744\n",
      "p(SPEARMAN sigma aff fin conn vs sigma aff fin conn lesioned) SpearmanrResult(correlation=0.039986266880292963, pvalue=0.5241873203218208)\n",
      "p(SPEARMAN sigma aff fin weight vs sigma aff fin weight lesioned) SpearmanrResult(correlation=0.059677557793545423, pvalue=0.34159625346087474)\n",
      "p(SPEARMAN AD fin conn vs AD fin conn lesioned)              SpearmanrResult(correlation=-0.069949626079389385, pvalue=0.26481473105769648)\n",
      "p(SPEARMAN AD fin weight vs AD fin weight lesioned)          SpearmanrResult(correlation=-0.036015357059513448, pvalue=0.56623051940285385)\n"
     ]
    }
   ],
   "source": [
    "wsr_comparison(c1ginl, c1gil)\n",
    "spearman_comparison(c1ginl, c1gil)"
   ]
  },
  {
   "cell_type": "code",
   "execution_count": 95,
   "metadata": {
    "collapsed": false
   },
   "outputs": [
    {
     "name": "stdout",
     "output_type": "stream",
     "text": [
      "p(WSR sigma aff fin conn vs sigma aff fin conn lesioned)     0.238112497649\n",
      "p(WSR sigma aff fin weight vs sigma aff fin weight lesioned) 0.00153428308557\n",
      "p(WSR AD fin conn vs AD fin conn lesioned)                   0.089445524459\n",
      "p(WSR AD fin weight vs AD fin weight lesioned)               0.033061586487\n",
      "p(SPEARMAN sigma aff fin conn vs sigma aff fin conn lesioned) SpearmanrResult(correlation=0.092344501029983969, pvalue=0.14063475139971535)\n",
      "p(SPEARMAN sigma aff fin weight vs sigma aff fin weight lesioned) SpearmanrResult(correlation=0.11573944266422519, pvalue=0.064459684337298498)\n",
      "p(SPEARMAN AD fin conn vs AD fin conn lesioned)              SpearmanrResult(correlation=0.057747068303730893, pvalue=0.35746847290924733)\n",
      "p(SPEARMAN AD fin weight vs AD fin weight lesioned)          SpearmanrResult(correlation=0.035084707300985465, pvalue=0.57631172564905675)\n"
     ]
    }
   ],
   "source": [
    "wsr_comparison(c1l, c1gil)\n",
    "spearman_comparison(c1l, c1gil)"
   ]
  },
  {
   "cell_type": "code",
   "execution_count": 97,
   "metadata": {
    "collapsed": false
   },
   "outputs": [
    {
     "name": "stdout",
     "output_type": "stream",
     "text": [
      "p(WSR sigma aff fin conn vs sigma aff fin conn lesioned)     0.000414429224078\n",
      "p(WSR sigma aff fin weight vs sigma aff fin weight lesioned) 2.69583250917e-06\n",
      "p(WSR AD fin conn vs AD fin conn lesioned)                   0.0208117830199\n",
      "p(WSR AD fin weight vs AD fin weight lesioned)               0.0216997910157\n",
      "p(SPEARMAN sigma aff fin conn vs sigma aff fin conn lesioned) SpearmanrResult(correlation=0.071318522545204835, pvalue=0.25555483975817239)\n",
      "p(SPEARMAN sigma aff fin weight vs sigma aff fin weight lesioned) SpearmanrResult(correlation=0.012218184939345386, pvalue=0.84575188542300939)\n",
      "p(SPEARMAN AD fin conn vs AD fin conn lesioned)              SpearmanrResult(correlation=-0.03356128751161349, pvalue=0.59299335220225946)\n",
      "p(SPEARMAN AD fin weight vs AD fin weight lesioned)          SpearmanrResult(correlation=-0.054320835756624025, pvalue=0.38675386591717986)\n"
     ]
    }
   ],
   "source": [
    "wsr_comparison(c1l, c1ginl)\n",
    "spearman_comparison(c1l, c1ginl)"
   ]
  },
  {
   "cell_type": "code",
   "execution_count": null,
   "metadata": {
    "collapsed": true
   },
   "outputs": [],
   "source": []
  },
  {
   "cell_type": "code",
   "execution_count": null,
   "metadata": {
    "collapsed": true
   },
   "outputs": [],
   "source": []
  }
 ],
 "metadata": {
  "kernelspec": {
   "display_name": "Python 2",
   "language": "python",
   "name": "python2"
  },
  "language_info": {
   "codemirror_mode": {
    "name": "ipython",
    "version": 2
   },
   "file_extension": ".py",
   "mimetype": "text/x-python",
   "name": "python",
   "nbconvert_exporter": "python",
   "pygments_lexer": "ipython2",
   "version": "2.7.9"
  }
 },
 "nbformat": 4,
 "nbformat_minor": 0
}
