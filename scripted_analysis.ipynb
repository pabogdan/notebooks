{
 "cells": [
  {
   "cell_type": "code",
   "execution_count": 44,
   "metadata": {
    "collapsed": false
   },
   "outputs": [
    {
     "name": "stdout",
     "output_type": "stream",
     "text": [
      "The autoreload extension is already loaded. To reload it, use:\n",
      "  %reload_ext autoreload\n"
     ]
    }
   ],
   "source": [
    "import sys; sys.argv=['']; del sys\n",
    "from simulation_statistics.moving_bar_analysis import *\n",
    "%load_ext autoreload\n",
    "%autoreload 2"
   ]
  },
  {
   "cell_type": "code",
   "execution_count": 45,
   "metadata": {
    "collapsed": false
   },
   "outputs": [
    {
     "data": {
      "text/plain": [
       "Namespace(fig_folder='C:\\\\Work\\\\phd\\\\simulation_statistics\\\\figures\\\\', filename=None, no_cache=False, path=[], plot=False, preproc_folder='C:\\\\Work\\\\phd\\\\simulation_statistics\\\\preproc\\\\', results_folder='results_for_motion_detection/', snapshots=False)"
      ]
     },
     "execution_count": 45,
     "metadata": {},
     "output_type": "execute_result"
    }
   ],
   "source": [
    "args.fig_folder = \"C:\\\\Work\\phd\\\\simulation_statistics\\\\figures\\\\\"\n",
    "args.preproc_folder = \"C:\\\\Work\\\\phd\\\\simulation_statistics\\\\preproc\\\\\"\n",
    "\n",
    "args"
   ]
  },
  {
   "cell_type": "markdown",
   "metadata": {},
   "source": [
    "# Analysis using Elephant \n",
    "https://elephant.readthedocs.io/en/latest/modules.html\n",
    "\n"
   ]
  },
  {
   "cell_type": "code",
   "execution_count": 46,
   "metadata": {
    "collapsed": false,
    "scrolled": true
   },
   "outputs": [
    {
     "name": "stdout",
     "output_type": "stream",
     "text": [
      "The suffix for this set of figures is  _1_angle_0\n",
      "Beginning Elephant analysis                  \n",
      "Suffix for generated figures                  : _1_angle_0\n",
      "Simtime                                       : 1200000.0 ms\n",
      "Assembling neo blocks...                     \n",
      "Neo blocks assembled. Process took 0:00:50.736000\n",
      "Computing spike train dissimilarity between some EXC and INH neurons\n",
      "Neuron ids selected                           : [ 30  38 377 400 635 659 664 666 822 838]\n"
     ]
    },
    {
     "name": "stderr",
     "output_type": "stream",
     "text": [
      "c:\\winpython-64bit-2.7.9.4\\python-2.7.9.amd64\\lib\\site-packages\\matplotlib\\figure.py:1742: UserWarning: This figure includes Axes that are not compatible with tight_layout, so its results might be incorrect.\n",
      "  warnings.warn(\"This figure includes Axes that are not \"\n"
     ]
    },
    {
     "ename": "NameError",
     "evalue": "global name 'van_rossum_distance' is not defined",
     "output_type": "error",
     "traceback": [
      "\u001b[1;31m---------------------------------------------------------------------------\u001b[0m",
      "\u001b[1;31mNameError\u001b[0m                                 Traceback (most recent call last)",
      "\u001b[1;32m<ipython-input-46-2c1bf6eea75d>\u001b[0m in \u001b[0;36m<module>\u001b[1;34m()\u001b[0m\n\u001b[0;32m      1\u001b[0m \u001b[0mfname\u001b[0m \u001b[1;33m=\u001b[0m \u001b[1;34m\"testing_random_delay_smax_128_gmax_1_192k_sigma_7.5_3_angle_0\"\u001b[0m\u001b[1;33m\u001b[0m\u001b[0m\n\u001b[1;32m----> 2\u001b[1;33m \u001b[0mresults\u001b[0m \u001b[1;33m=\u001b[0m \u001b[0melephant_analysis\u001b[0m\u001b[1;33m(\u001b[0m\u001b[0mfname\u001b[0m\u001b[1;33m)\u001b[0m\u001b[1;33m\u001b[0m\u001b[0m\n\u001b[0m",
      "\u001b[1;32mc:\\work\\phd\\simulation_statistics\\moving_bar_analysis.py\u001b[0m in \u001b[0;36melephant_analysis\u001b[1;34m(archive, extra_suffix, show_plots)\u001b[0m\n\u001b[0;32m   1903\u001b[0m     \u001b[0mplt\u001b[0m\u001b[1;33m.\u001b[0m\u001b[0mclose\u001b[0m\u001b[1;33m(\u001b[0m\u001b[0mfig\u001b[0m\u001b[1;33m)\u001b[0m\u001b[1;33m\u001b[0m\u001b[0m\n\u001b[0;32m   1904\u001b[0m \u001b[1;33m\u001b[0m\u001b[0m\n\u001b[1;32m-> 1905\u001b[1;33m     \u001b[1;32mreturn\u001b[0m \u001b[0mexc_block\u001b[0m\u001b[1;33m,\u001b[0m \u001b[0minh_block\u001b[0m\u001b[1;33m,\u001b[0m \u001b[0mvan_rossum_distance\u001b[0m\u001b[1;33m,\u001b[0m \u001b[0mvan_rossum_distance_exc\u001b[0m\u001b[1;33m,\u001b[0m \u001b[0mvan_rossum_distance_inh\u001b[0m\u001b[1;33m\u001b[0m\u001b[0m\n\u001b[0m\u001b[0;32m   1906\u001b[0m \u001b[1;33m\u001b[0m\u001b[0m\n\u001b[0;32m   1907\u001b[0m \u001b[1;32mdef\u001b[0m \u001b[0mcomparative_elephant_analysis\u001b[0m\u001b[1;33m(\u001b[0m\u001b[0marchive1\u001b[0m\u001b[1;33m,\u001b[0m \u001b[0marchive2\u001b[0m\u001b[1;33m,\u001b[0m \u001b[0mextra_suffix\u001b[0m\u001b[1;33m=\u001b[0m\u001b[0mNone\u001b[0m\u001b[1;33m,\u001b[0m \u001b[0mshow_plots\u001b[0m\u001b[1;33m=\u001b[0m\u001b[0mFalse\u001b[0m\u001b[1;33m)\u001b[0m\u001b[1;33m:\u001b[0m\u001b[1;33m\u001b[0m\u001b[0m\n",
      "\u001b[1;31mNameError\u001b[0m: global name 'van_rossum_distance' is not defined"
     ]
    }
   ],
   "source": [
    "fname = \"testing_random_delay_smax_128_gmax_1_192k_sigma_7.5_3_angle_0\"\n",
    "results = elephant_analysis(fname)"
   ]
  },
  {
   "cell_type": "code",
   "execution_count": null,
   "metadata": {
    "collapsed": true
   },
   "outputs": [],
   "source": []
  },
  {
   "cell_type": "code",
   "execution_count": null,
   "metadata": {
    "collapsed": true
   },
   "outputs": [],
   "source": []
  },
  {
   "cell_type": "code",
   "execution_count": null,
   "metadata": {
    "collapsed": true
   },
   "outputs": [],
   "source": []
  },
  {
   "cell_type": "markdown",
   "metadata": {},
   "source": [
    "# Single experiment analysis"
   ]
  },
  {
   "cell_type": "code",
   "execution_count": null,
   "metadata": {
    "collapsed": false
   },
   "outputs": [],
   "source": [
    "fname = args.preproc_folder +  \"results_for_testing_random_delay_smax_128_gmax_1_192k_sigma_7.5_3_angle_0\"\n",
    "suffix, dsi_selective, dsi_not_selective = analyse_one(fname)"
   ]
  },
  {
   "cell_type": "code",
   "execution_count": null,
   "metadata": {
    "collapsed": true
   },
   "outputs": [],
   "source": []
  },
  {
   "cell_type": "code",
   "execution_count": null,
   "metadata": {
    "collapsed": true
   },
   "outputs": [],
   "source": []
  },
  {
   "cell_type": "code",
   "execution_count": null,
   "metadata": {
    "collapsed": true
   },
   "outputs": [],
   "source": []
  },
  {
   "cell_type": "code",
   "execution_count": null,
   "metadata": {
    "collapsed": true
   },
   "outputs": [],
   "source": []
  },
  {
   "cell_type": "code",
   "execution_count": null,
   "metadata": {
    "collapsed": true
   },
   "outputs": [],
   "source": []
  }
 ],
 "metadata": {
  "kernelspec": {
   "display_name": "Python 2",
   "language": "python",
   "name": "python2"
  },
  "language_info": {
   "codemirror_mode": {
    "name": "ipython",
    "version": 2
   },
   "file_extension": ".py",
   "mimetype": "text/x-python",
   "name": "python",
   "nbconvert_exporter": "python",
   "pygments_lexer": "ipython2",
   "version": "2.7.9"
  }
 },
 "nbformat": 4,
 "nbformat_minor": 0
}
